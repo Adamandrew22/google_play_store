{
 "cells": [
  {
   "cell_type": "code",
   "execution_count": 12,
   "metadata": {},
   "outputs": [],
   "source": [
    "import pandas as pd\n",
    "import numpy as np\n",
    "import os\n",
    "import sys\n",
    "import matplotlib.pyplot as plt\n",
    "import seaborn as sns\n",
    "%matplotlib inline\n",
    "from datetime import datetime as dt\n",
    "today_locked = dt.date(dt.strptime('January 1, 2021', '%B %d, %Y'))"
   ]
  },
  {
   "cell_type": "markdown",
   "metadata": {},
   "source": [
    "# Objective\n",
    "\n",
    " - Explore the dataset\n",
    "\n",
    " - Build a predictive model for 'Rating'\n",
    " - Build a UI to predict 'Rating' for a prospective app\n",
    "\n",
    " - Build a function to search for apps\n",
    " - Build a UI for the function\n"
   ]
  },
  {
   "cell_type": "code",
   "execution_count": 13,
   "metadata": {},
   "outputs": [],
   "source": [
    "revws = pd.read_csv('Data/googleplaystore_user_reviews.csv')\n",
    "apps = pd.read_csv('Data/googleplaystore.csv')\n",
    "apps = apps[apps['Category'] != '1.9']\n",
    "\n",
    "# DROPPING SHITTING AWKWARD VARIABLES\n",
    "apps = apps.drop(['Current Ver'], axis = 1)\n",
    "apps = apps[pd.notnull(apps['Rating'])]\n",
    "apps = apps.reset_index(drop = True)"
   ]
  },
  {
   "cell_type": "code",
   "execution_count": 14,
   "metadata": {},
   "outputs": [],
   "source": [
    "# EASY FIXES\n",
    "\n",
    "def dumfun(df, oldname, prefix):\n",
    "    dums = pd.get_dummies(df[oldname])\n",
    "    dums.columns = [prefix+'_'+i.replace(' ','') for i in dums.columns]\n",
    "    new_df = pd.concat([df.drop([oldname], axis = 1), dums.iloc[:,:-1]], axis = 1)\n",
    "    return new_df\n",
    "\n",
    "apps['Reviews'] = apps['Reviews'].apply(lambda x: int(str(x).strip()))\n",
    "apps['Installs'] = apps['Installs'].apply(lambda x: int(str(x).replace('+','').replace(',','')))\n",
    "apps['IsFree'] = apps['Type'].apply(lambda x: 1 if x == 'Free' else 0)\n",
    "apps = apps.drop(['Type'], axis = 1)\n",
    "apps['Price'] = apps['Price'].apply(lambda x: float(x.replace('$','')))\n",
    "apps = dumfun(apps, 'Content Rating', 'Rating')\n",
    "apps = dumfun(apps, 'Category', 'Category')"
   ]
  },
  {
   "cell_type": "code",
   "execution_count": 15,
   "metadata": {},
   "outputs": [],
   "source": [
    "# FIXING SIZE\n",
    "\n",
    "apps['Size_varies'] = [1 if x == 'Varies with device' else 0 for x in apps['Size']]\n",
    "#placeholder -1 for imputation later\n",
    "apps['Size'] = apps.apply(lambda x: -1 if x['Size_varies'] == 1 else x['Size'], axis = 1)\n",
    "\n",
    "def size_adjust(x):\n",
    "    if x == -1:\n",
    "        returnable = x\n",
    "    elif x[-1] == 'M':\n",
    "        returnable = float(x.replace('M',''))*1000\n",
    "    elif x[-1] == 'k':\n",
    "        returnable = float(x.replace('k',''))\n",
    "    return returnable\n",
    "\n",
    "apps['Size'] = apps['Size'].apply(lambda x: size_adjust(x))\n",
    "apps = apps.rename(columns={'Size': 'Size_kb'})"
   ]
  },
  {
   "cell_type": "code",
   "execution_count": 16,
   "metadata": {},
   "outputs": [],
   "source": [
    "# FIXING GENRES\n",
    "\n",
    "genres = list(apps['Genres'].value_counts().index)\n",
    "outer = []\n",
    "for i in genres:\n",
    "    for k in i.split(';'):\n",
    "        outer.append(k)\n",
    "genres = list(np.unique(outer))\n",
    "listed_lists = []\n",
    "for i in apps['Genres']:\n",
    "    listed_lists.append(i.split(';'))\n",
    "listed_lists\n",
    "genres_df = pd.DataFrame(columns = genres, index = range(len(listed_lists))).fillna(0)\n",
    "for i in range(len(listed_lists)):\n",
    "    for k in listed_lists[i]:\n",
    "        genres_df.loc[i,k] = 1\n",
    "\n",
    "genres_df.columns = ['genre_' + i.replace(' ', '_') for i in genres_df.columns]\n",
    "apps = pd.concat([apps.drop(['Genres'], axis = 1), genres_df], axis = 1)"
   ]
  },
  {
   "cell_type": "code",
   "execution_count": 17,
   "metadata": {},
   "outputs": [],
   "source": [
    "#FIXING VERSIONS\n",
    "\n",
    "version_mapping = pd.DataFrame({'Android Ver' : apps['Android Ver'].unique()})\n",
    "version_mapping['Ver_DeviceVar']  = version_mapping.apply(\n",
    "    lambda x: 1 if (x['Android Ver'] == 'Varies with device' or pd.isnull(x['Android Ver'])) else 0, axis = 1)\n",
    "version_mapping['Ver_UpperLimit'] = version_mapping.apply(\n",
    "    lambda x: 0 if ('and up' in str(x['Android Ver']) or x['Ver_DeviceVar'] == 1) else 1, axis = 1)\n",
    "version_mapping['Ver_MaxVer'] = version_mapping.apply(\n",
    "    lambda x: x['Android Ver'].split(' - ')[-1] if x['Ver_UpperLimit'] == 1 else 0, axis = 1)\n",
    "version_mapping['Ver_MaxVer'] = version_mapping['Ver_MaxVer'].apply(\n",
    "    lambda x: 0 if x == 0 else int(x[:x.index('.')]))\n",
    "\n",
    "apps = apps.merge(version_mapping, on = 'Android Ver', how = 'left')\n",
    "apps = apps.drop(['Android Ver'], axis = 1)"
   ]
  },
  {
   "cell_type": "code",
   "execution_count": 18,
   "metadata": {},
   "outputs": [],
   "source": [
    "# FIXING UPDATE DATE\n",
    "\n",
    "apps['LastUpdate_dt'] = apps['Last Updated'].apply(lambda x: dt.date(dt.strptime(x, '%B %d, %Y')))\n",
    "apps['Days_since_update'] = apps['LastUpdate_dt'].apply(lambda x: int((today_locked - x).days))\n",
    "apps = apps.drop(['Last Updated', 'LastUpdate_dt'], axis = 1)"
   ]
  },
  {
   "cell_type": "code",
   "execution_count": 19,
   "metadata": {},
   "outputs": [],
   "source": [
    "# FINISHING TOUCHES\n",
    "\n",
    "apps['ID'] = [100000 + i for i in range(len(apps))]\n",
    "listed_cols = list(apps.columns)\n",
    "listed_cols.remove('ID')\n",
    "listed_cols.insert(0, 'ID')\n",
    "raw_df = apps[listed_cols]\n",
    "\n",
    "raw_df.to_csv('./Data/app_data_clean.csv', index = False)"
   ]
  },
  {
   "cell_type": "code",
   "execution_count": 20,
   "metadata": {},
   "outputs": [],
   "source": [
    "X = raw_df.drop(['ID', 'App', 'Rating'], axis = 1)\n",
    "y = raw_df['Rating'].values"
   ]
  },
  {
   "cell_type": "code",
   "execution_count": 10,
   "metadata": {},
   "outputs": [
    {
     "name": "stdout",
     "output_type": "stream",
     "text": [
      "(7024, 100)\n",
      "(2342, 100)\n",
      "(7024,)\n",
      "(2342,)\n"
     ]
    }
   ],
   "source": [
    "from sklearn.model_selection import train_test_split as tts\n",
    "X_train, X_test, y_train, y_test = tts(X, y)\n",
    "\n",
    "print(X_train.shape)\n",
    "print(X_test.shape)\n",
    "print(y_train.shape)\n",
    "print(y_test.shape)"
   ]
  },
  {
   "cell_type": "code",
   "execution_count": null,
   "metadata": {},
   "outputs": [],
   "source": []
  },
  {
   "cell_type": "code",
   "execution_count": null,
   "metadata": {},
   "outputs": [],
   "source": []
  },
  {
   "cell_type": "code",
   "execution_count": null,
   "metadata": {},
   "outputs": [],
   "source": []
  },
  {
   "cell_type": "code",
   "execution_count": null,
   "metadata": {},
   "outputs": [],
   "source": []
  },
  {
   "cell_type": "code",
   "execution_count": null,
   "metadata": {},
   "outputs": [],
   "source": []
  },
  {
   "cell_type": "code",
   "execution_count": null,
   "metadata": {},
   "outputs": [],
   "source": []
  }
 ],
 "metadata": {
  "kernelspec": {
   "display_name": "Python 3",
   "language": "python",
   "name": "python3"
  },
  "language_info": {
   "codemirror_mode": {
    "name": "ipython",
    "version": 3
   },
   "file_extension": ".py",
   "mimetype": "text/x-python",
   "name": "python",
   "nbconvert_exporter": "python",
   "pygments_lexer": "ipython3",
   "version": "3.8.5"
  }
 },
 "nbformat": 4,
 "nbformat_minor": 4
}
