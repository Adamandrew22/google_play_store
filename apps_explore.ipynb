{
 "cells": [
  {
   "cell_type": "code",
   "execution_count": 69,
   "metadata": {},
   "outputs": [
    {
     "data": {
      "text/plain": [
       "['.DS_Store', 'googleplaystore_user_reviews.csv', 'googleplaystore.csv']"
      ]
     },
     "execution_count": 69,
     "metadata": {},
     "output_type": "execute_result"
    }
   ],
   "source": [
    "import pandas as pd\n",
    "import numpy as np\n",
    "import os\n",
    "import sys\n",
    "import matplotlib.pyplot as plt\n",
    "import seaborn as sns\n",
    "%matplotlib inline\n",
    "\n",
    "os.listdir('Data/')"
   ]
  },
  {
   "cell_type": "markdown",
   "metadata": {},
   "source": [
    "# Objective\n",
    "\n",
    "1. Explore the dataset\n",
    "2. Build a function to search for apps\n",
    "3. Build a UI for the function\n",
    "4. Build a predictive model for 'Rating'\n",
    "5. Build a UI to predict 'Rating' for a prospective app\n"
   ]
  },
  {
   "cell_type": "code",
   "execution_count": 70,
   "metadata": {},
   "outputs": [],
   "source": [
    "revws = pd.read_csv('Data/googleplaystore_user_reviews.csv')\n",
    "apps = pd.read_csv('Data/googleplaystore.csv')\n",
    "apps = apps[apps['Category'] != '1.9']"
   ]
  },
  {
   "cell_type": "code",
   "execution_count": 71,
   "metadata": {},
   "outputs": [],
   "source": [
    "def dumfun(df, oldname, prefix):\n",
    "    dums = pd.get_dummies(df[oldname])\n",
    "    dums.columns = [prefix+'_'+i.replace(' ','') for i in dums.columns]\n",
    "    new_df = pd.concat([df.drop([oldname], axis = 1), dums.iloc[:,:-1]], axis = 1)\n",
    "    return new_df"
   ]
  },
  {
   "cell_type": "code",
   "execution_count": 72,
   "metadata": {},
   "outputs": [],
   "source": [
    "apps['Size_varies'] = [1 if x == 'Varies with device' else 0 for x in apps['Size']]\n",
    "#placeholder -1 for imputation later\n",
    "apps['Size'] = apps.apply(lambda x: -1 if x['Size_varies'] == 1 else x['Size'], axis = 1)\n",
    "\n",
    "def size_adjust(x):\n",
    "    if x == -1:\n",
    "        returnable = x\n",
    "    elif x[-1] == 'M':\n",
    "        returnable = float(x.replace('M',''))*1000\n",
    "    elif x[-1] == 'k':\n",
    "        returnable = float(x.replace('k',''))\n",
    "    return returnable\n",
    "\n",
    "apps['Size'] = apps['Size'].apply(lambda x: size_adjust(x))\n",
    "apps = apps.rename(columns={'Size': 'Size_kb'})"
   ]
  },
  {
   "cell_type": "code",
   "execution_count": 73,
   "metadata": {},
   "outputs": [],
   "source": [
    "apps['Reviews'] = apps['Reviews'].apply(lambda x: int(str(x).strip()))\n",
    "apps['Installs'] = apps['Installs'].apply(lambda x: int(str(x).replace('+','').replace(',','')))\n",
    "apps['IsFree'] = apps['Type'].apply(lambda x: 1 if x == 'Free' else 0)\n",
    "apps = apps.drop(['Type'], axis = 1)\n",
    "apps['Price'] = apps['Price'].apply(lambda x: float(x.replace('$','')))\n",
    "apps = dumfun(apps, 'Content Rating', 'Rating')"
   ]
  },
  {
   "cell_type": "code",
   "execution_count": 94,
   "metadata": {},
   "outputs": [
    {
     "data": {
      "text/plain": [
       "array(['Action', 'Action & Adventure', 'Adventure', 'Arcade',\n",
       "       'Art & Design', 'Auto & Vehicles', 'Beauty', 'Board',\n",
       "       'Books & Reference', 'Brain Games', 'Business', 'Card', 'Casino',\n",
       "       'Casual', 'Comics', 'Communication', 'Creativity', 'Dating',\n",
       "       'Education', 'Educational', 'Entertainment', 'Events', 'Finance',\n",
       "       'Food & Drink', 'Health & Fitness', 'House & Home',\n",
       "       'Libraries & Demo', 'Lifestyle', 'Maps & Navigation', 'Medical',\n",
       "       'Music', 'Music & Audio', 'Music & Video', 'News & Magazines',\n",
       "       'Parenting', 'Personalization', 'Photography', 'Pretend Play',\n",
       "       'Productivity', 'Puzzle', 'Racing', 'Role Playing', 'Shopping',\n",
       "       'Simulation', 'Social', 'Sports', 'Strategy', 'Tools',\n",
       "       'Travel & Local', 'Trivia', 'Video Players & Editors', 'Weather',\n",
       "       'Word'], dtype='<U23')"
      ]
     },
     "execution_count": 94,
     "metadata": {},
     "output_type": "execute_result"
    }
   ],
   "source": [
    "genres = list(apps['Genres'].value_counts().index)\n",
    "outer = []\n",
    "for i in genres:\n",
    "    for k in i.split(';'):\n",
    "        outer.append(k)\n",
    "\n",
    "genres = np.unique(outer)\n",
    "genres\n",
    "\n",
    "# THIS WILL TAKE SOME WORK"
   ]
  },
  {
   "cell_type": "code",
   "execution_count": null,
   "metadata": {},
   "outputs": [],
   "source": []
  },
  {
   "cell_type": "code",
   "execution_count": null,
   "metadata": {},
   "outputs": [],
   "source": []
  },
  {
   "cell_type": "code",
   "execution_count": null,
   "metadata": {},
   "outputs": [],
   "source": []
  },
  {
   "cell_type": "code",
   "execution_count": null,
   "metadata": {},
   "outputs": [],
   "source": []
  },
  {
   "cell_type": "code",
   "execution_count": null,
   "metadata": {},
   "outputs": [],
   "source": []
  },
  {
   "cell_type": "code",
   "execution_count": null,
   "metadata": {},
   "outputs": [],
   "source": []
  },
  {
   "cell_type": "code",
   "execution_count": null,
   "metadata": {},
   "outputs": [],
   "source": []
  },
  {
   "cell_type": "code",
   "execution_count": 10,
   "metadata": {},
   "outputs": [
    {
     "ename": "SyntaxError",
     "evalue": "invalid syntax (<ipython-input-10-ce1776e72ce4>, line 1)",
     "output_type": "error",
     "traceback": [
      "\u001b[0;36m  File \u001b[0;32m\"<ipython-input-10-ce1776e72ce4>\"\u001b[0;36m, line \u001b[0;32m1\u001b[0m\n\u001b[0;31m    def appfilter('Category',\u001b[0m\n\u001b[0m                  ^\u001b[0m\n\u001b[0;31mSyntaxError\u001b[0m\u001b[0;31m:\u001b[0m invalid syntax\n"
     ]
    }
   ],
   "source": [
    "def appfilter('Category',\n",
    "              'Reviews',\n",
    "              'Size',\n",
    "              'Installs',\n",
    "              'Type',\n",
    "              'Price',\n",
    "              'Content Rating',\n",
    "              'Genres',\n",
    "              'Last Updated',\n",
    "              'Current Ver',\n",
    "              'Android Ver'):\n",
    "    pass"
   ]
  },
  {
   "cell_type": "code",
   "execution_count": null,
   "metadata": {},
   "outputs": [],
   "source": []
  }
 ],
 "metadata": {
  "kernelspec": {
   "display_name": "Python 3",
   "language": "python",
   "name": "python3"
  },
  "language_info": {
   "codemirror_mode": {
    "name": "ipython",
    "version": 3
   },
   "file_extension": ".py",
   "mimetype": "text/x-python",
   "name": "python",
   "nbconvert_exporter": "python",
   "pygments_lexer": "ipython3",
   "version": "3.8.5"
  }
 },
 "nbformat": 4,
 "nbformat_minor": 4
}
